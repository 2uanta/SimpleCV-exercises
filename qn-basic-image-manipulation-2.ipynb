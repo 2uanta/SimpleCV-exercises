{
 "metadata": {
  "name": ""
 },
 "nbformat": 3,
 "nbformat_minor": 0,
 "worksheets": [
  {
   "cells": [
    {
     "cell_type": "heading",
     "level": 1,
     "metadata": {},
     "source": [
      "Define image and a crop"
     ]
    },
    {
     "cell_type": "code",
     "collapsed": false,
     "input": [
      "from SimpleCV import Image, Display, Color\n",
      "img = Image(\"simplecv-examples-master/presentations/timgs/tricky.jpg\")\n",
      "face = img.crop(150,190,309-150,333-190)\n",
      "#img.show() # show the source\n",
      "#face.show() # show the cropped image"
     ],
     "language": "python",
     "metadata": {},
     "outputs": []
    },
    {
     "cell_type": "heading",
     "level": 1,
     "metadata": {},
     "source": [
      "Rotate"
     ]
    },
    {
     "cell_type": "code",
     "collapsed": false,
     "input": [
      "Display().quit()\n",
      "#face.rotate(45).show() # basic rotation\n",
      "#face.rotate(45,fixed=False).show()"
     ],
     "language": "python",
     "metadata": {},
     "outputs": [
      {
       "metadata": {},
       "output_type": "pyout",
       "prompt_number": 13,
       "text": [
        "<SimpleCV.Display Object resolution:((214, 214)), Image Resolution: (214, 214) at memory location: (0x521e878)>"
       ]
      }
     ],
     "prompt_number": 13
    },
    {
     "cell_type": "heading",
     "level": 1,
     "metadata": {},
     "source": [
      "Scale"
     ]
    },
    {
     "cell_type": "code",
     "collapsed": false,
     "input": [
      "Display().quit()\n",
      "#face.scale(0.5).show()\n",
      "face.scale(int(face.width/2.0),int(face.height/2.0)).show() # basic scaling"
     ],
     "language": "python",
     "metadata": {},
     "outputs": [
      {
       "metadata": {},
       "output_type": "pyout",
       "prompt_number": 63,
       "text": [
        "<SimpleCV.Display Object resolution:((79, 71)), Image Resolution: (79, 71) at memory location: (0x5222b20)>"
       ]
      }
     ],
     "prompt_number": 63
    },
    {
     "cell_type": "heading",
     "level": 1,
     "metadata": {},
     "source": [
      "flipHorizontal"
     ]
    },
    {
     "cell_type": "code",
     "collapsed": false,
     "input": [
      "Display().quit()\n",
      "face.flipHorizontal().show()# flipping"
     ],
     "language": "python",
     "metadata": {},
     "outputs": [
      {
       "metadata": {},
       "output_type": "pyout",
       "prompt_number": 67,
       "text": [
        "<SimpleCV.Display Object resolution:((159, 143)), Image Resolution: (159, 143) at memory location: (0x5222b48)>"
       ]
      }
     ],
     "prompt_number": 67
    },
    {
     "cell_type": "heading",
     "level": 1,
     "metadata": {},
     "source": [
      "Blit"
     ]
    },
    {
     "cell_type": "code",
     "collapsed": false,
     "input": [
      "Display().quit()\n",
      "test1 = img.blit(face.flipHorizontal(),pos=(150,190))\n",
      "test1.show() # now let's have fun with blitting"
     ],
     "language": "python",
     "metadata": {},
     "outputs": [
      {
       "metadata": {},
       "output_type": "pyout",
       "prompt_number": 68,
       "text": [
        "<SimpleCV.Display Object resolution:((485, 585)), Image Resolution: (485, 585) at memory location: (0x52223a0)>"
       ]
      }
     ],
     "prompt_number": 68
    },
    {
     "cell_type": "code",
     "collapsed": false,
     "input": [
      "Display().quit()\n",
      "test2 = img.blit(face.flipHorizontal(),pos=(150,190),alpha=0.5)\n",
      "test2.show()"
     ],
     "language": "python",
     "metadata": {},
     "outputs": [
      {
       "metadata": {},
       "output_type": "pyout",
       "prompt_number": 72,
       "text": [
        "<SimpleCV.Display Object resolution:((485, 585)), Image Resolution: (485, 585) at memory location: (0x5222698)>"
       ]
      }
     ],
     "prompt_number": 72
    },
    {
     "cell_type": "heading",
     "level": 1,
     "metadata": {},
     "source": [
      "Mask"
     ]
    },
    {
     "cell_type": "code",
     "collapsed": false,
     "input": [
      "Display().quit()\n",
      "mask = Image((face.width,face.height))\n",
      "# Here we are just drawing a white circle on a black background\n",
      "mask.drawCircle((face.width/2,face.height/2),70,color=Color.WHITE, thickness=-1)\n",
      "mask = mask.applyLayers()\n",
      "mask.show()"
     ],
     "language": "python",
     "metadata": {},
     "outputs": [
      {
       "metadata": {},
       "output_type": "pyout",
       "prompt_number": 73,
       "text": [
        "<SimpleCV.Display Object resolution:((159, 143)), Image Resolution: (159, 143) at memory location: (0x5222d28)>"
       ]
      }
     ],
     "prompt_number": 73
    },
    {
     "cell_type": "code",
     "collapsed": false,
     "input": [
      "Display().quit()\n",
      "test3 = img.blit(face.flipHorizontal(),pos=(150,190),mask=mask)\n",
      "test3.show()"
     ],
     "language": "python",
     "metadata": {},
     "outputs": [
      {
       "metadata": {},
       "output_type": "pyout",
       "prompt_number": 76,
       "text": [
        "<SimpleCV.Display Object resolution:((485, 585)), Image Resolution: (485, 585) at memory location: (0x5126260)>"
       ]
      }
     ],
     "prompt_number": 76
    },
    {
     "cell_type": "code",
     "collapsed": false,
     "input": [
      "Display().quit()\n",
      "face.binarize().blur().show()\n",
      "test4 = img.blit(face.flipHorizontal(),pos=(150,190),alphaMask=face.binarize().blur())\n",
      "test4.show()"
     ],
     "language": "python",
     "metadata": {},
     "outputs": [
      {
       "metadata": {},
       "output_type": "pyout",
       "prompt_number": 77,
       "text": [
        "<SimpleCV.Display Object resolution:((485, 585)), Image Resolution: (485, 585) at memory location: (0x521df30)>"
       ]
      }
     ],
     "prompt_number": 77
    },
    {
     "cell_type": "code",
     "collapsed": false,
     "input": [
      "Display().quit()"
     ],
     "language": "python",
     "metadata": {},
     "outputs": [],
     "prompt_number": 78
    },
    {
     "cell_type": "code",
     "collapsed": false,
     "input": [],
     "language": "python",
     "metadata": {},
     "outputs": []
    }
   ],
   "metadata": {}
  }
 ]
}