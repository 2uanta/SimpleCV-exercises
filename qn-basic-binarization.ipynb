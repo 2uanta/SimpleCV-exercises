{
 "metadata": {
  "name": ""
 },
 "nbformat": 3,
 "nbformat_minor": 0,
 "worksheets": [
  {
   "cells": [
    {
     "cell_type": "heading",
     "level": 1,
     "metadata": {},
     "source": [
      "Get Image"
     ]
    },
    {
     "cell_type": "markdown",
     "metadata": {},
     "source": [
      "Example (Let's find the parrot)"
     ]
    },
    {
     "cell_type": "code",
     "collapsed": false,
     "input": [
      "from SimpleCV import Image, Display, Color\n",
      "img = Image(\"simplecv-examples-master/presentations/timgs/parrot.jpg\")\n",
      "img.show()"
     ],
     "language": "python",
     "metadata": {},
     "outputs": [
      {
       "metadata": {},
       "output_type": "pyout",
       "prompt_number": 1,
       "text": [
        "<SimpleCV.Display Object resolution:((470, 640)), Image Resolution: (470, 640) at memory location: (0x50ac648)>"
       ]
      }
     ],
     "prompt_number": 1
    },
    {
     "cell_type": "heading",
     "level": 1,
     "metadata": {},
     "source": [
      "Binarize and threshold"
     ]
    },
    {
     "cell_type": "code",
     "collapsed": false,
     "input": [
      "Display().quit()\n",
      "b = img.binarize().invert() # automatic\n",
      "t1 = img.threshold(50) # too low\n",
      "t2 = img.threshold(128) # okay\n",
      "t3 = img.threshold(200) # too high\n",
      "b.show()\n",
      "t1.show()\n",
      "t2.show()\n",
      "t3.show()\n",
      "b.save('bparrot.png')\n",
      "t1.save('t1parrot.png')\n",
      "t2.save('t2parrot.png')\n",
      "t2.save('t3parrot.png')"
     ],
     "language": "python",
     "metadata": {},
     "outputs": [
      {
       "metadata": {},
       "output_type": "pyout",
       "prompt_number": 3,
       "text": [
        "1"
       ]
      }
     ],
     "prompt_number": 3
    },
    {
     "cell_type": "code",
     "collapsed": false,
     "input": [
      "Display().quit()"
     ],
     "language": "python",
     "metadata": {},
     "outputs": [],
     "prompt_number": 4
    },
    {
     "cell_type": "code",
     "collapsed": false,
     "input": [],
     "language": "python",
     "metadata": {},
     "outputs": []
    }
   ],
   "metadata": {}
  }
 ]
}