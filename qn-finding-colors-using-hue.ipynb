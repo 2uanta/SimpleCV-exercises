{
 "metadata": {
  "name": ""
 },
 "nbformat": 3,
 "nbformat_minor": 0,
 "worksheets": [
  {
   "cells": [
    {
     "cell_type": "heading",
     "level": 1,
     "metadata": {},
     "source": [
      "Define image"
     ]
    },
    {
     "cell_type": "code",
     "collapsed": false,
     "input": [
      "from SimpleCV import Image, Display, Color\n",
      "import pylab as plt # import pylab for plotting\n",
      "img = Image(\"simplecv-examples-master/presentations/timgs/flower.jpg\")\n",
      "img.show()"
     ],
     "language": "python",
     "metadata": {},
     "outputs": [
      {
       "metadata": {},
       "output_type": "pyout",
       "prompt_number": 30,
       "text": [
        "<SimpleCV.Display Object resolution:((640, 578)), Image Resolution: (640, 578) at memory location: (0xa26d648)>"
       ]
      }
     ],
     "prompt_number": 30
    },
    {
     "cell_type": "heading",
     "level": 1,
     "metadata": {},
     "source": [
      "Find hue peaks"
     ]
    },
    {
     "cell_type": "code",
     "collapsed": false,
     "input": [
      "Display().quit()\n",
      "peaks = img.huePeaks() # find the hues\n",
      "print peaks"
     ],
     "language": "python",
     "metadata": {},
     "outputs": [
      {
       "output_type": "stream",
       "stream": "stdout",
       "text": [
        "[(35.0, 0.015135705017301038), (52.0, 0.068125540657439448), (140.0, 3.2439446366782009e-05), (166.0, 0.10177605968858132)]\n"
       ]
      }
     ],
     "prompt_number": 31
    },
    {
     "cell_type": "heading",
     "level": 1,
     "metadata": {},
     "source": [
      "Draw histogram of hue"
     ]
    },
    {
     "cell_type": "code",
     "collapsed": false,
     "input": [
      "Display().quit()\n",
      "hist = img.hueHistogram() # get the histogram too\n",
      "plt.plot(hist) # plot the histogram\n",
      "plt.show()\n",
      "#plt.draw() # show it to us (doesnt seem to work)"
     ],
     "language": "python",
     "metadata": {},
     "outputs": [],
     "prompt_number": 49
    },
    {
     "cell_type": "heading",
     "level": 1,
     "metadata": {},
     "source": [
      "Hue distance and B&W (binary version)"
     ]
    },
    {
     "cell_type": "code",
     "collapsed": false,
     "input": [
      "# show how far away from the hue we are black is closer\n",
      "# white is farther away from our hue.\n",
      "Display().quit()\n",
      "hdist = img.hueDistance(peaks[3][0])\n",
      "hdist.show()\n",
      "hdist.save('hflower.png')"
     ],
     "language": "python",
     "metadata": {},
     "outputs": [
      {
       "metadata": {},
       "output_type": "pyout",
       "prompt_number": 56,
       "text": [
        "1"
       ]
      }
     ],
     "prompt_number": 56
    },
    {
     "cell_type": "code",
     "collapsed": false,
     "input": [
      "Display().quit()"
     ],
     "language": "python",
     "metadata": {},
     "outputs": [],
     "prompt_number": 57
    },
    {
     "cell_type": "code",
     "collapsed": false,
     "input": [
      "# create a black and white version of our flower\n",
      "Display().quit()\n",
      "binary = img.hueDistance(peaks[3][0]).invert().threshold(220)\n",
      "binary.show()\n",
      "binary.save('bflower.png')"
     ],
     "language": "python",
     "metadata": {},
     "outputs": [
      {
       "metadata": {},
       "output_type": "pyout",
       "prompt_number": 58,
       "text": [
        "1"
       ]
      }
     ],
     "prompt_number": 58
    },
    {
     "cell_type": "code",
     "collapsed": false,
     "input": [
      "Display().quit()"
     ],
     "language": "python",
     "metadata": {},
     "outputs": [],
     "prompt_number": 59
    },
    {
     "cell_type": "code",
     "collapsed": false,
     "input": [],
     "language": "python",
     "metadata": {},
     "outputs": []
    }
   ],
   "metadata": {}
  }
 ]
}