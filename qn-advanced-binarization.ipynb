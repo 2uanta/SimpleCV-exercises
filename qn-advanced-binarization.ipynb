{
 "metadata": {
  "name": ""
 },
 "nbformat": 3,
 "nbformat_minor": 0,
 "worksheets": [
  {
   "cells": [
    {
     "cell_type": "heading",
     "level": 1,
     "metadata": {
      "slideshow": {
       "slide_type": "slide"
      }
     },
     "source": [
      "Get Image"
     ]
    },
    {
     "cell_type": "code",
     "collapsed": false,
     "input": [
      "from SimpleCV import Image, Display, Color\n",
      "img = Image(\"simplecv-examples-master/presentations/timgs/parrot.jpg\")\n",
      "img.show()"
     ],
     "language": "python",
     "metadata": {
      "slideshow": {
       "slide_type": "fragment"
      }
     },
     "outputs": [
      {
       "metadata": {},
       "output_type": "pyout",
       "prompt_number": 10,
       "text": [
        "<SimpleCV.Display Object resolution:((470, 640)), Image Resolution: (470, 640) at memory location: (0x5b3c288)>"
       ]
      }
     ],
     "prompt_number": 10
    },
    {
     "cell_type": "heading",
     "level": 1,
     "metadata": {
      "slideshow": {
       "slide_type": "slide"
      }
     },
     "source": [
      "Invert"
     ]
    },
    {
     "cell_type": "code",
     "collapsed": false,
     "input": [
      "Display().quit()\n",
      "binary = img.binarize().invert() # automatic\n",
      "binary.show() # good but we're missing part of the beak"
     ],
     "language": "python",
     "metadata": {
      "slideshow": {
       "slide_type": "fragment"
      }
     },
     "outputs": [
      {
       "metadata": {},
       "output_type": "pyout",
       "prompt_number": 2,
       "text": [
        "<SimpleCV.Display Object resolution:((470, 640)), Image Resolution: (470, 640) at memory location: (0x5b41210)>"
       ]
      }
     ],
     "prompt_number": 2
    },
    {
     "cell_type": "heading",
     "level": 1,
     "metadata": {
      "slideshow": {
       "slide_type": "slide"
      }
     },
     "source": [
      "hueDistance"
     ]
    },
    {
     "cell_type": "code",
     "collapsed": false,
     "input": [
      "Display().quit()\n",
      "binary2 = img.hueDistance(80).invert().threshold(190)\n",
      "binary.sideBySide(binary2).show() # missing a different part of the beak"
     ],
     "language": "python",
     "metadata": {
      "slideshow": {
       "slide_type": "fragment"
      }
     },
     "outputs": [
      {
       "metadata": {},
       "output_type": "pyout",
       "prompt_number": 3,
       "text": [
        "<SimpleCV.Display Object resolution:((940, 640)), Image Resolution: (940, 640) at memory location: (0x5b418c8)>"
       ]
      }
     ],
     "prompt_number": 3
    },
    {
     "cell_type": "heading",
     "level": 1,
     "metadata": {
      "slideshow": {
       "slide_type": "slide"
      }
     },
     "source": [
      "floodFill"
     ]
    },
    {
     "cell_type": "code",
     "collapsed": false,
     "input": [
      "Display().quit()\n",
      "filled = binary.floodFill((0,img.height-1),color=Color.BLACK)\n",
      "binary.sideBySide(filled).show() # get rid of the branch in the corner"
     ],
     "language": "python",
     "metadata": {
      "slideshow": {
       "slide_type": "fragment"
      }
     },
     "outputs": [
      {
       "metadata": {},
       "output_type": "pyout",
       "prompt_number": 4,
       "text": [
        "<SimpleCV.Display Object resolution:((940, 640)), Image Resolution: (940, 640) at memory location: (0x5b41d78)>"
       ]
      }
     ],
     "prompt_number": 4
    },
    {
     "cell_type": "heading",
     "level": 1,
     "metadata": {
      "slideshow": {
       "slide_type": "slide"
      }
     },
     "source": [
      "logicalOR"
     ]
    },
    {
     "cell_type": "code",
     "collapsed": false,
     "input": [
      "Display().quit()\n",
      "better = filled.logicalOR(binary2)\n",
      "filled.sideBySide(binary2).sideBySide(better).show() # combine the two."
     ],
     "language": "python",
     "metadata": {
      "slideshow": {
       "slide_type": "fragment"
      }
     },
     "outputs": [
      {
       "metadata": {},
       "output_type": "pyout",
       "prompt_number": 5,
       "text": [
        "<SimpleCV.Display Object resolution:((1410, 640)), Image Resolution: (1410, 640) at memory location: (0x5b41d28)>"
       ]
      }
     ],
     "prompt_number": 5
    },
    {
     "cell_type": "heading",
     "level": 1,
     "metadata": {
      "slideshow": {
       "slide_type": "slide"
      }
     },
     "source": [
      "erode"
     ]
    },
    {
     "cell_type": "code",
     "collapsed": false,
     "input": [
      "Display().quit()\n",
      "eroded = better.erode()\n",
      "better.sideBySide(eroded).show() # get rid of specs."
     ],
     "language": "python",
     "metadata": {
      "slideshow": {
       "slide_type": "fragment"
      }
     },
     "outputs": [
      {
       "metadata": {},
       "output_type": "pyout",
       "prompt_number": 6,
       "text": [
        "<SimpleCV.Display Object resolution:((940, 640)), Image Resolution: (940, 640) at memory location: (0x5b41a08)>"
       ]
      }
     ],
     "prompt_number": 6
    },
    {
     "cell_type": "heading",
     "level": 1,
     "metadata": {
      "slideshow": {
       "slide_type": "slide"
      }
     },
     "source": [
      "dilate"
     ]
    },
    {
     "cell_type": "code",
     "collapsed": false,
     "input": [
      "Display().quit()\n",
      "dilated = better.dilate()\n",
      "better.sideBySide(dilated).sideBySide(eroded).show() # get rid of holes"
     ],
     "language": "python",
     "metadata": {
      "slideshow": {
       "slide_type": "fragment"
      }
     },
     "outputs": [
      {
       "metadata": {},
       "output_type": "pyout",
       "prompt_number": 7,
       "text": [
        "<SimpleCV.Display Object resolution:((1410, 640)), Image Resolution: (1410, 640) at memory location: (0x5b47198)>"
       ]
      }
     ],
     "prompt_number": 7
    },
    {
     "cell_type": "heading",
     "level": 1,
     "metadata": {
      "slideshow": {
       "slide_type": "slide"
      }
     },
     "source": [
      "watershed"
     ]
    },
    {
     "cell_type": "code",
     "collapsed": false,
     "input": [
      "Display().quit()\n",
      "watershed = img.watershed(dilated)\n",
      "img.sideBySide(dilated).sideBySide(watershed).show() # let's see what this can do"
     ],
     "language": "python",
     "metadata": {
      "slideshow": {
       "slide_type": "fragment"
      }
     },
     "outputs": [
      {
       "metadata": {},
       "output_type": "pyout",
       "prompt_number": 8,
       "text": [
        "<SimpleCV.Display Object resolution:((1410, 640)), Image Resolution: (1410, 640) at memory location: (0x5b47670)>"
       ]
      }
     ],
     "prompt_number": 8
    },
    {
     "cell_type": "code",
     "collapsed": false,
     "input": [
      "Display().quit()"
     ],
     "language": "python",
     "metadata": {},
     "outputs": [],
     "prompt_number": 11
    },
    {
     "cell_type": "code",
     "collapsed": false,
     "input": [],
     "language": "python",
     "metadata": {},
     "outputs": [],
     "prompt_number": 9
    }
   ],
   "metadata": {}
  }
 ]
}