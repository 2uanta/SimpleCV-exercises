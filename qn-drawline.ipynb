{
 "metadata": {
  "name": ""
 },
 "nbformat": 3,
 "nbformat_minor": 0,
 "worksheets": [
  {
   "cells": [
    {
     "cell_type": "heading",
     "level": 1,
     "metadata": {},
     "source": [
      "Define image"
     ]
    },
    {
     "cell_type": "code",
     "collapsed": false,
     "input": [
      "from SimpleCV import Image, Display, Color\n",
      "img = Image(\"simplecv-examples-master/presentations/timgs/tricky.jpg\")"
     ],
     "language": "python",
     "metadata": {},
     "outputs": [],
     "prompt_number": 41
    },
    {
     "cell_type": "heading",
     "level": 1,
     "metadata": {},
     "source": [
      "Drawing layer"
     ]
    },
    {
     "cell_type": "code",
     "collapsed": false,
     "input": [
      "poly = [(0,0),(30,50),(123,213),(234,234),(333,434)]\n",
      "img.dl().polygon(poly,color=Color.GREEN,filled=True)\n",
      "img.show()"
     ],
     "language": "python",
     "metadata": {},
     "outputs": [
      {
       "metadata": {},
       "output_type": "pyout",
       "prompt_number": 42,
       "text": [
        "<SimpleCV.Display Object resolution:((485, 585)), Image Resolution: (485, 585) at memory location: (0x51a79b8)>"
       ]
      }
     ],
     "prompt_number": 42
    },
    {
     "cell_type": "code",
     "collapsed": false,
     "input": [
      "Display().quit()\n",
      "for i in xrange(30,90,9):\n",
      "    poly2 = [(p[0]+i,p[1]+i) for p in poly]\n",
      "    color1 = Color.YELLOW # Color.getRandom()\n",
      "    img.dl().polygon(poly2,color=color1,filled=True,alpha=128)\n",
      "img.show()"
     ],
     "language": "python",
     "metadata": {},
     "outputs": [
      {
       "metadata": {},
       "output_type": "pyout",
       "prompt_number": 43,
       "text": [
        "<SimpleCV.Display Object resolution:((485, 585)), Image Resolution: (485, 585) at memory location: (0x51a7e90)>"
       ]
      }
     ],
     "prompt_number": 43
    },
    {
     "cell_type": "code",
     "collapsed": false,
     "input": [
      "img.drawRectangle(130,190,200,50,color=Color.BLACK,width=-1,alpha=128)\n",
      "img.drawCircle((170,220),20,color=Color.WHITE)\n",
      "img.drawCircle((230,220),20,color=Color.WHITE)\n",
      "img.drawLine((0,0),(100,100),color=Color.PUCE,thickness=3)\n",
      "img.drawLine((300,200),(300,200),color=Color.PUCE,thickness=3)\n",
      "img.drawLine((45,300),(300,45),color=Color.PUCE,thickness=3)\n",
      "img.drawText('HELLO WORLD!',30,30,fontsize=60)\n",
      "#img.show()\n",
      "img.applyLayers().save('crazynixon.png')\n",
      "#img.clearLayers()\n",
      "img.show()"
     ],
     "language": "python",
     "metadata": {},
     "outputs": [
      {
       "metadata": {},
       "output_type": "pyout",
       "prompt_number": 44,
       "text": [
        "<SimpleCV.Display Object resolution:((485, 585)), Image Resolution: (485, 585) at memory location: (0x3822a30)>"
       ]
      }
     ],
     "prompt_number": 44
    },
    {
     "cell_type": "code",
     "collapsed": false,
     "input": [
      "Display().quit()"
     ],
     "language": "python",
     "metadata": {},
     "outputs": [],
     "prompt_number": 40
    },
    {
     "cell_type": "code",
     "collapsed": false,
     "input": [],
     "language": "python",
     "metadata": {},
     "outputs": []
    }
   ],
   "metadata": {}
  }
 ]
}