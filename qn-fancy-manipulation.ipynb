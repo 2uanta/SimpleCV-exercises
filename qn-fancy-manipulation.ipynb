{
 "metadata": {
  "name": ""
 },
 "nbformat": 3,
 "nbformat_minor": 0,
 "worksheets": [
  {
   "cells": [
    {
     "cell_type": "code",
     "collapsed": false,
     "input": [
      "from SimpleCV import Image, Display, Color\n",
      "img = Image(\"espresso.jpg\").resize(480,480)\n",
      "gray = img.getGrayNumpy() # get the gray scale np image\n",
      "colored = img.getNumpy()  # get the colored one\n",
      "print (img.width,img.height) # tell us the image size (3024, 3024)\n"
     ],
     "language": "python",
     "metadata": {},
     "outputs": [
      {
       "output_type": "stream",
       "stream": "stdout",
       "text": [
        "(480, 480)\n"
       ]
      }
     ],
     "prompt_number": 27
    },
    {
     "cell_type": "code",
     "collapsed": false,
     "input": [
      "colored[0:20,:] = Color.BLUE # set the left side to blue\n",
      "colored[:,0:20] = Color.GREEN # set the top row to green\n",
      "colored[40:80,40:80] = Color.YELLOW # make a yellow square\n",
      "import numpy as np\n",
      "x,y = np.where(gray>230) # find bright pixels > 230\n",
      "for xf,yf in zip(x,y): # for each of those\n",
      "    colored[xf][yf] - Color.RED # make these red\n",
      "img2 = Image(colored) # create an image\n",
      "img2.show()\n"
     ],
     "language": "python",
     "metadata": {},
     "outputs": [
      {
       "metadata": {},
       "output_type": "pyout",
       "prompt_number": 28,
       "text": [
        "<SimpleCV.Display Object resolution:((480, 480)), Image Resolution: (480, 480) at memory location: (0x38421c0)>"
       ]
      }
     ],
     "prompt_number": 28
    },
    {
     "cell_type": "code",
     "collapsed": false,
     "input": [
      "Display().quit()"
     ],
     "language": "python",
     "metadata": {},
     "outputs": [],
     "prompt_number": 29
    },
    {
     "cell_type": "code",
     "collapsed": false,
     "input": [
      "# now set the while blue channel to 255\n",
      "colored[:,:,2] = 255\n",
      "# and show us that\n",
      "img3 = Image(colored)\n",
      "img3.show()"
     ],
     "language": "python",
     "metadata": {},
     "outputs": [
      {
       "metadata": {},
       "output_type": "pyout",
       "prompt_number": 30,
       "text": [
        "<SimpleCV.Display Object resolution:((480, 480)), Image Resolution: (480, 480) at memory location: (0x53027b0)>"
       ]
      }
     ],
     "prompt_number": 30
    },
    {
     "cell_type": "code",
     "collapsed": false,
     "input": [
      "Display().quit()"
     ],
     "language": "python",
     "metadata": {},
     "outputs": [],
     "prompt_number": 31
    },
    {
     "cell_type": "code",
     "collapsed": false,
     "input": [],
     "language": "python",
     "metadata": {},
     "outputs": []
    }
   ],
   "metadata": {}
  }
 ]
}