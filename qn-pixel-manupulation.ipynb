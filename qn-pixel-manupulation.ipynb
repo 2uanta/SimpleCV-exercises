{
 "metadata": {
  "name": ""
 },
 "nbformat": 3,
 "nbformat_minor": 0,
 "worksheets": [
  {
   "cells": [
    {
     "cell_type": "code",
     "collapsed": false,
     "input": [
      "from SimpleCV import Image, Display, Color\n",
      "img = Image(\"espresso.jpg\")\n",
      "#c = img[0,0] # get a pixel\n",
      "#print c\n",
      "#print img.getPixel(0,0) # get another way\n",
      "\n",
      "#test = img[200:300,200:300]\n",
      "#test.show() # the result is an image\n",
      "\n",
      "#test = img[50:,:]\n",
      "#test.show() # again using slice\n",
      "\n",
      "test = img[0:5,0:5]\n",
      "print test.getNumpy() # get the raw values\n",
      "#from scipy import *\n",
      "img[0:105,0:105] = Color.RED\n",
      "img.show() #Another way\n",
      "\n",
      "#test = img.getNumpy() # RIGHT!\n",
      "#test[0:305,0:305] = Color.GREEN\n",
      "#img2 = Image(test)\n",
      "#img2.show()"
     ],
     "language": "python",
     "metadata": {},
     "outputs": [
      {
       "output_type": "stream",
       "stream": "stdout",
       "text": [
        "[[[2 2 2]\n",
        "  [2 2 2]\n",
        "  [2 2 2]\n",
        "  [2 2 2]\n",
        "  [2 2 2]]\n",
        "\n",
        " [[3 3 3]\n",
        "  [2 2 2]\n",
        "  [2 2 2]\n",
        "  [2 2 2]\n",
        "  [2 2 2]]\n",
        "\n",
        " [[4 4 4]\n",
        "  [3 3 3]\n",
        "  [1 1 1]\n",
        "  [1 1 1]\n",
        "  [1 1 1]]\n",
        "\n",
        " [[4 4 4]\n",
        "  [3 3 3]\n",
        "  [1 1 1]\n",
        "  [0 0 0]\n",
        "  [0 0 0]]\n",
        "\n",
        " [[4 4 4]\n",
        "  [3 3 3]\n",
        "  [1 1 1]\n",
        "  [0 0 0]\n",
        "  [0 0 0]]]\n"
       ]
      },
      {
       "metadata": {},
       "output_type": "pyout",
       "prompt_number": 1,
       "text": [
        "<SimpleCV.Display Object resolution:((3024, 3024)), Image Resolution: (3024, 3024) at memory location: (0x552b8f0)>"
       ]
      }
     ],
     "prompt_number": 1
    },
    {
     "cell_type": "code",
     "collapsed": false,
     "input": [
      "Display().quit()"
     ],
     "language": "python",
     "metadata": {},
     "outputs": [],
     "prompt_number": 2
    },
    {
     "cell_type": "code",
     "collapsed": false,
     "input": [],
     "language": "python",
     "metadata": {},
     "outputs": [],
     "prompt_number": 10
    },
    {
     "cell_type": "code",
     "collapsed": false,
     "input": [],
     "language": "python",
     "metadata": {},
     "outputs": []
    }
   ],
   "metadata": {}
  }
 ]
}