{
 "metadata": {
  "name": ""
 },
 "nbformat": 3,
 "nbformat_minor": 0,
 "worksheets": [
  {
   "cells": [
    {
     "cell_type": "code",
     "collapsed": false,
     "input": [
      "from SimpleCV import Image, Display, Color\n",
      "img = Image(\"espresso.jpg\")\n",
      "# resize\n",
      "#img1 = img.resize(480,480)\n",
      "#print (img.width,img.height) # tell us the image size (3024, 3024)\n",
      "#img1.show()\n",
      "\n",
      "# crop\n",
      "#img2 = img.crop(1000,500,1000,1000)\n",
      "#img2.show()\n",
      "\n",
      "# scale\n",
      "img3 = img.scale(0.25)\n",
      "#img3.show()\n",
      "\n",
      "# rotate\n",
      "img4 = img.rotate(-45).scale(0.25)\n",
      "img4.show()\n",
      "\n",
      "# blit\n",
      "img5 = img3.blit(img,alpha=0.5)"
     ],
     "language": "python",
     "metadata": {},
     "outputs": [],
     "prompt_number": 35
    },
    {
     "cell_type": "code",
     "collapsed": false,
     "input": [
      "Display().quit()"
     ],
     "language": "python",
     "metadata": {},
     "outputs": [],
     "prompt_number": 37
    },
    {
     "cell_type": "code",
     "collapsed": false,
     "input": [],
     "language": "python",
     "metadata": {},
     "outputs": []
    }
   ],
   "metadata": {}
  }
 ]
}